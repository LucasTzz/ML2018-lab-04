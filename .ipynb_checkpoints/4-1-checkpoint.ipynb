{
 "cells": [
  {
   "cell_type": "code",
   "execution_count": 1,
   "metadata": {},
   "outputs": [],
   "source": [
    "from numpy import *\n",
    "import math\n",
    "def load_data(path):\n",
    "    f = open(path)\n",
    "    data = []\n",
    "    for line in f.readlines():\n",
    "        arr = []\n",
    "        lines = line.strip().split(\"\\t\")\n",
    "        for x in lines:\n",
    "            arr.append(x)\n",
    "        data.append(arr)\n",
    "    return data\n",
    "\n",
    "#load data from the dataset\n",
    "pre_train=load_data('./ml-100k/u1.base')\n",
    "pre_val=load_data('./ml-100k/u1.test')\n",
    "n_users=943\n",
    "n_item=1682\n"
   ]
  },
  {
   "cell_type": "code",
   "execution_count": 2,
   "metadata": {},
   "outputs": [],
   "source": [
    "#initialize training matrix and validation matrix\n",
    "R_train=zeros((n_users,n_item))\n",
    "R_val=zeros((n_users,n_item))\n",
    "#building matrices\n",
    "for i in pre_train:\n",
    "    user_id=int(i[0])-1\n",
    "    item_id=int(i[1])-1\n",
    "    rating=float(i[2])\n",
    "    R_train[user_id][item_id]=rating\n",
    "for i in pre_val:\n",
    "    user_id=int(i[0])-1\n",
    "    item_id=int(i[1])-1\n",
    "    rating=float(i[2])\n",
    "    R_val[user_id][item_id]=rating\n",
    "#initialize some model parameters\n",
    "K=20\n",
    "lamda=0.5\n",
    "max_epoch=100\n",
    "#create user matrix and item matrix\n",
    "P_users=random.random((K,n_users))\n",
    "Q_item=random.random((K,n_item))\n",
    "R_train=mat(R_train)\n",
    "R_val=mat(R_val)\n",
    "P_users=mat(P_users)\n",
    "Q_item=mat(Q_item)\n",
    "E=mat(eye(K))"
   ]
  },
  {
   "cell_type": "code",
   "execution_count": 3,
   "metadata": {},
   "outputs": [],
   "source": [
    "#define loss function\n",
    "def loss(P,Q,R):\n",
    "    error=0\n",
    "    sum_of_P=0\n",
    "    sum_of_Q=0\n",
    "    n_p=[]\n",
    "    n_q=[]\n",
    "    for i in range(n_users):\n",
    "        n=0\n",
    "        for j in range(n_item):\n",
    "            if R[i,j]>0:\n",
    "                error+=square(R[i,j]-(P[:,i].T*Q[:,j])[0,0])\n",
    "                n+=1 #calculate total ratings of a certain user i\n",
    "        n_p.append(n)\n",
    "        sum_of_P+=square(linalg.norm(P[:,i]))*n_p[i]\n",
    "\n",
    "    for j in range(n_item):\n",
    "        n=0\n",
    "        for i in range(n_users):\n",
    "            if R[i,j]>0:\n",
    "                n+=1\n",
    "        n_q.append(n)\n",
    "        sum_of_Q+=square(linalg.norm(Q[:,j]))*n_q[j]\n",
    "    error+=lamda*(sum_of_P+sum_of_Q) #normalization\n",
    "    return error,n_p,n_q\n",
    "            \n"
   ]
  },
  {
   "cell_type": "code",
   "execution_count": 4,
   "metadata": {},
   "outputs": [],
   "source": [
    "# Mean Square Error\n",
    "def MAE():\n",
    "    n=0\n",
    "    error=0\n",
    "    for i in range(n_users):\n",
    "        for j in range(n_item):\n",
    "            if R_val[i,j]>0:\n",
    "                error+=abs(R_val[i,j]-(P_users[:,i].T*Q_item[:,j])[0,0])\n",
    "                n+=1\n",
    "    Loss=error/n\n",
    "    return Loss\n",
    "# Root Mean Square Error\n",
    "def RMSE():\n",
    "    n=0\n",
    "    error=0\n",
    "    for i in range(n_users):\n",
    "        for j in range(n_item):\n",
    "            if R_val[i,j]>0:\n",
    "                error+=square(R_val[i,j]-(P_users[:,i].T*Q_item[:,j])[0,0])\n",
    "                n+=1\n",
    "    Loss=sqrt(error/n)\n",
    "    return Loss"
   ]
  },
  {
   "cell_type": "code",
   "execution_count": 5,
   "metadata": {
    "scrolled": false
   },
   "outputs": [
    {
     "name": "stdout",
     "output_type": "stream",
     "text": [
      "current loss on validation is:  270727.1578487135 \tin epoch:  0\n",
      "current loss on validation is:  216925.39893719804 \tin epoch:  1\n",
      "current loss on validation is:  213905.38221112694 \tin epoch:  2\n",
      "current loss on validation is:  213091.24524395473 \tin epoch:  3\n",
      "current loss on validation is:  212982.67109581936 \tin epoch:  4\n",
      "current loss on validation is:  213016.23897964077 \tin epoch:  5\n",
      "current loss on validation is:  213066.3245900863 \tin epoch:  6\n",
      "current loss on validation is:  213104.4049998762 \tin epoch:  7\n",
      "current loss on validation is:  213127.30559751336 \tin epoch:  8\n",
      "current loss on validation is:  213138.8526987037 \tin epoch:  9\n",
      "current loss on validation is:  213143.58795007053 \tin epoch:  10\n",
      "current loss on validation is:  213144.71084109892 \tin epoch:  11\n"
     ]
    }
   ],
   "source": [
    "L_validations=[]\n",
    "L_trainings=[]\n",
    "for epoch in range(max_epoch):\n",
    "    L_training=loss(P_users,Q_item,R_train)\n",
    "    # fix Q and optimize P\n",
    "    for i in range(n_users):\n",
    "        P_users[:,i]=(Q_item*Q_item.T+lamda*L_training[1][i]*E).I*Q_item*R_train[i].T\n",
    "    # fix P and optimize Q\n",
    "    for j in range(n_item):\n",
    "        Q_item[:,j]=(P_users*P_users.T+lamda*L_training[2][j]*E).I*P_users*R_train[:,j]\n",
    "    # calculate losses\n",
    "    L_validation=loss(P_users,Q_item,R_val)\n",
    "    L_validations.append(L_validation[0])\n",
    "    L_trainings.append(L_training[0])\n",
    "    print('current loss on validation is: ',L_validation[0],'\\tin epoch: ',epoch)\n",
    "    # if convergence then stop\n",
    "    if epoch>0 and abs(L_validations[epoch]-L_validations[epoch-1])<3:\n",
    "        break\n"
   ]
  },
  {
   "cell_type": "code",
   "execution_count": 8,
   "metadata": {},
   "outputs": [
    {
     "data": {
      "image/png": "[encoded data removed]",
      "text/plain": [
       "<Figure size 1296x432 with 1 Axes>"
      ]
     },
     "metadata": {
      "needs_background": "light"
     },
     "output_type": "display_data"
    }
   ],
   "source": [
    "import matplotlib.pyplot as plt\n",
    "# show in graph\n",
    "plt.figure(figsize=(18, 6))\n",
    "plt.plot(L_validations, color=\"b\", label=\"Loss on validation\")\n",
    "plt.legend()\n",
    "plt.xlabel(\"epoch\")\n",
    "plt.ylabel(\"loss\")\n",
    "plt.title(\"The graph of loss value varing with the number of iterations\")\n",
    "plt.show()\n"
   ]
  },
  {
   "cell_type": "code",
   "execution_count": 7,
   "metadata": {},
   "outputs": [
    {
     "name": "stdout",
     "output_type": "stream",
     "text": [
      "[[ 1.75098320e+00  6.42045792e-01  5.84122930e-01 ... -4.60674582e-03\n",
      "   1.24685352e-03  2.09884490e-02]\n",
      " [ 1.34755315e+00 -1.14402703e-01  1.16096034e-01 ...  5.27327854e-03\n",
      "  -9.31874604e-04 -8.58890844e-03]\n",
      " [ 6.43483892e-02  1.81977449e-02  9.55672370e-02 ...  2.51490350e-02\n",
      "  -4.06140410e-04 -5.52530324e-03]\n",
      " ...\n",
      " [ 1.53886235e+00  3.98870109e-02  3.58769435e-01 ... -4.92298297e-03\n",
      "  -1.05477330e-03 -1.76384710e-03]\n",
      " [ 1.11787736e+00  2.10589490e-01 -2.26938198e-01 ...  1.94533176e-02\n",
      "   3.86759641e-04 -3.42443270e-02]\n",
      " [ 1.85748631e+00  1.51873371e+00  7.38881204e-01 ... -5.11033392e-03\n",
      "   2.92032005e-02  2.59625720e-02]]\n"
     ]
    }
   ],
   "source": [
    "# calculate the final prediction matrix\n",
    "R_predict=P_users.T*Q_item\n",
    "print(R_predict)"
   ]
  },
  {
   "cell_type": "code",
   "execution_count": null,
   "metadata": {},
   "outputs": [],
   "source": []
  }
 ],
 "metadata": {
  "kernelspec": {
   "display_name": "Python 3",
   "language": "python",
   "name": "python3"
  },
  "language_info": {
   "codemirror_mode": {
    "name": "ipython",
    "version": 3
   },
   "file_extension": ".py",
   "mimetype": "text/x-python",
   "name": "python",
   "nbconvert_exporter": "python",
   "pygments_lexer": "ipython3",
   "version": "3.7.0"
  }
 },
 "nbformat": 4,
 "nbformat_minor": 1
}
